{
 "cells": [
  {
   "cell_type": "markdown",
   "id": "fd9f58ed",
   "metadata": {},
   "source": [
    "<center><h1>Data Preprocessing on leetcode's scraped data using Python, Numpy & Pandas</h1></center>"
   ]
  },
  {
   "cell_type": "markdown",
   "id": "9ce83f4f",
   "metadata": {},
   "source": [
    "<center>\n",
    "    <img src=\"https://i.imgur.com/FGODlma.jpg\" width=80% style=\"box-shadow:rgba(52, 64, 77, 0.2);border-radius:10px;\">\n",
    "</center>"
   ]
  },
  {
   "cell_type": "markdown",
   "id": "210f0510",
   "metadata": {},
   "source": [
    "#### `Introduction`\n",
    "\n",
    "- This notebook revolves around the comprehensive data preprocessing and feature engineering of a dataset containing 2,920 LeetCode problems.\n",
    "- In this dataset, 817 of these problems are classified as premium, which posed a unique challenge due to a lack of additional data."
   ]
  },
  {
   "cell_type": "markdown",
   "id": "875e35aa",
   "metadata": {},
   "source": [
    "<center><h1> Overview of the Scraped Data</h1></center>"
   ]
  },
  {
   "cell_type": "code",
   "execution_count": null,
   "id": "891bd3b2",
   "metadata": {},
   "outputs": [],
   "source": [
    "# Import necessary libraries\n",
    "import numpy as np\n",
    "import pandas as pd\n",
    "\n",
    "# Suppress warnings to enhance the code output clarity\n",
    "import warnings\n",
    "warnings.filterwarnings(\"ignore\")"
   ]
  },
  {
   "cell_type": "code",
   "execution_count": null,
   "id": "0f9b62c2",
   "metadata": {},
   "outputs": [],
   "source": [
    "# Read the scraped data from the CSV file into a DataFrame\n",
    "df = pd.read_csv('leetcode_scraped_data.csv')\n",
    "dff = df.copy()"
   ]
  },
  {
   "cell_type": "code",
   "execution_count": null,
   "id": "15b6502b",
   "metadata": {},
   "outputs": [],
   "source": [
    "# Display a random sample of 10 rows from the DataFrame\n",
    "df.sample(10)"
   ]
  },
  {
   "cell_type": "code",
   "execution_count": null,
   "id": "e844deeb",
   "metadata": {},
   "outputs": [],
   "source": [
    "# Display concise information about the DataFrame, including the data types and memory usage\n",
    "df.info()"
   ]
  },
  {
   "cell_type": "code",
   "execution_count": null,
   "id": "8593cafc",
   "metadata": {},
   "outputs": [],
   "source": [
    "# Count the number of duplicated rows in the DataFrame\n",
    "df.duplicated().sum()"
   ]
  },
  {
   "cell_type": "code",
   "execution_count": null,
   "id": "44db1600",
   "metadata": {},
   "outputs": [],
   "source": [
    "# Count the number of missing values in each column of the DataFrame\n",
    "df.isnull().sum()"
   ]
  },
  {
   "cell_type": "markdown",
   "id": "2e0ef342",
   "metadata": {},
   "source": [
    "- We have data of 2,920 LeetCode problems.\n",
    "- Out of these, 817 are premium problems, so we lack additional data for them.\n",
    "- There are 869 null values in the `topic_tags` column. This is because 817 premium problems and other 52 null values indicate that the topic tags information is not available in the leetcode website.\n",
    "- In the `similar_questions` column, there are 1,612 null values. This is because 817 premium problems and other 795 null values indicate that similar questions is not available in the leetcode website."
   ]
  },
  {
   "cell_type": "markdown",
   "id": "d8b52b67",
   "metadata": {},
   "source": [
    "<center> <h2> Handling Missing Values </h2> </center>"
   ]
  },
  {
   "cell_type": "markdown",
   "id": "7cb7fecc",
   "metadata": {},
   "source": [
    "> <p style=\"color:red\"> Note: We lack information regarding premium questions. </p>"
   ]
  },
  {
   "cell_type": "markdown",
   "id": "fd9a9965",
   "metadata": {},
   "source": [
    "### `is_premium`"
   ]
  },
  {
   "cell_type": "markdown",
   "id": "713ee8be",
   "metadata": {},
   "source": [
    "- Handle the missing values in the `is_premium` column by replacing them with the boolean value `True` to accurately denote the premium status."
   ]
  },
  {
   "cell_type": "code",
   "execution_count": null,
   "id": "e8cd368c",
   "metadata": {},
   "outputs": [],
   "source": [
    "# Get the unique values in the `is_premium` column.\n",
    "df['is_premium'].unique()"
   ]
  },
  {
   "cell_type": "code",
   "execution_count": null,
   "id": "c8d5dcb3",
   "metadata": {},
   "outputs": [],
   "source": [
    "#  Check the number of missing values in the `is_premium` column.\n",
    "df['is_premium'].isnull().sum()"
   ]
  },
  {
   "cell_type": "code",
   "execution_count": null,
   "id": "917c51cd",
   "metadata": {},
   "outputs": [],
   "source": [
    "# Replace all missing values in the `is_premium` column with `True`.\n",
    "df['is_premium'].fillna(True, inplace=True)"
   ]
  },
  {
   "cell_type": "code",
   "execution_count": null,
   "id": "a7e3de44",
   "metadata": {},
   "outputs": [],
   "source": [
    "# Get the number of premium and non-premium questions in the DataFrame.\n",
    "df['is_premium'].value_counts()"
   ]
  },
  {
   "cell_type": "code",
   "execution_count": null,
   "id": "96e346a5",
   "metadata": {},
   "outputs": [],
   "source": [
    "# Get the data type of the 'is_premium' column.\n",
    "df['is_premium'].dtype"
   ]
  },
  {
   "cell_type": "markdown",
   "id": "7e764c64",
   "metadata": {},
   "source": [
    "### `topic_tags`"
   ]
  },
  {
   "cell_type": "markdown",
   "id": "8f5e21be",
   "metadata": {},
   "source": [
    "- Fill the null values with the appropriate values, namely \"JavaScript\" and \"pandas\"."
   ]
  },
  {
   "cell_type": "code",
   "execution_count": null,
   "id": "a6999bc1",
   "metadata": {},
   "outputs": [],
   "source": [
    "#  Check the number of missing values in the `topic_tags` column.\n",
    "df['topic_tags'].isnull().sum()"
   ]
  },
  {
   "cell_type": "code",
   "execution_count": null,
   "id": "e3d60fcc",
   "metadata": {},
   "outputs": [],
   "source": [
    "# The `selected_ids` list contains a set of LeetCode question IDs\n",
    "# that are all related to JavaScript\n",
    "# Number of `selected_ids` is 37\n",
    "selected_ids = [2693, 2694, 2695, 2703, 2704, 2705, 2715, 2721, 2722, 2723, 2724,\n",
    "2725, 2726, 2727, 2618, 2619, 2620, 2621, 2622, 2623, 2624, 2625, 2626,\n",
    "2627, 2629, 2630, 2631, 2634, 2635, 2637, 2648, 2649, 2650, 2665, 2666, 2667, 2677]"
   ]
  },
  {
   "cell_type": "code",
   "execution_count": null,
   "id": "06a83d5e",
   "metadata": {},
   "outputs": [],
   "source": [
    "# Assign \"JavaScript\" topic tag to rows where title starts with selected IDs.\n",
    "df.loc[df['title'].str.split('.').apply(lambda x: x[0]).astype('int').isin(selected_ids), 'topic_tags'] = \"JavaScript\""
   ]
  },
  {
   "cell_type": "code",
   "execution_count": null,
   "id": "297b451c",
   "metadata": {},
   "outputs": [],
   "source": [
    "# The `selected_ids` list contains a set of LeetCode question IDs\n",
    "# that are all related to Pandas\n",
    "# Number of `selected_ids` is 15\n",
    "selected_ids = [2877, 2878, 2879, 2880, 2881, 2882, 2883, 2884, 2885, 2886, 2887,\n",
    "2888, 2889, 2890, 2891]"
   ]
  },
  {
   "cell_type": "code",
   "execution_count": null,
   "id": "93607857",
   "metadata": {},
   "outputs": [],
   "source": [
    "# Assign \"Pandas\" topic tag to rows where title starts with selected IDs.\n",
    "df.loc[df['title'].str.split('.').apply(lambda x: x[0]).astype('int').isin(selected_ids), 'topic_tags'] = \"Pandas\""
   ]
  },
  {
   "cell_type": "code",
   "execution_count": null,
   "id": "1faf4e76",
   "metadata": {},
   "outputs": [],
   "source": [
    "#  Check the number of missing values in the `topic_tags` column.\n",
    "df['topic_tags'].isnull().sum()"
   ]
  },
  {
   "cell_type": "markdown",
   "id": "9c98539a",
   "metadata": {},
   "source": [
    "### `similar_questions`"
   ]
  },
  {
   "cell_type": "markdown",
   "id": "390cc213",
   "metadata": {},
   "source": [
    "- Fill in the null values for non-premium questions with an empty string, as there are no similar questions for those LeetCode problems."
   ]
  },
  {
   "cell_type": "code",
   "execution_count": null,
   "id": "9202e027",
   "metadata": {},
   "outputs": [],
   "source": [
    "# Count the number of null values in the 'similar_questions'\n",
    "df['similar_questions'].isnull().sum()"
   ]
  },
  {
   "cell_type": "code",
   "execution_count": null,
   "id": "75d267ab",
   "metadata": {},
   "outputs": [],
   "source": [
    "# Set an empty string for 'similar_questions' where 'is_premium' is False and 'similar_questions' is null\n",
    "df.loc[(df['is_premium'] == False) & df['similar_questions'].isnull(), 'similar_questions'] = ''"
   ]
  },
  {
   "cell_type": "code",
   "execution_count": null,
   "id": "02dd80ba",
   "metadata": {},
   "outputs": [],
   "source": [
    "# Count the number of null values in the 'similar_questions'\n",
    "df['similar_questions'].isnull().sum()"
   ]
  },
  {
   "cell_type": "code",
   "execution_count": null,
   "id": "4b8a59e3",
   "metadata": {},
   "outputs": [],
   "source": [
    "# Count the number of null values in each column\n",
    "df.isnull().sum()"
   ]
  },
  {
   "cell_type": "markdown",
   "id": "4dc9d533",
   "metadata": {},
   "source": [
    "> **We handle all missing values for non-premium questions.**"
   ]
  },
  {
   "cell_type": "markdown",
   "id": "ed5af61b",
   "metadata": {},
   "source": [
    "<center> <h2> Feature Engineering </h2> </center>"
   ]
  },
  {
   "cell_type": "markdown",
   "id": "cf4d125a",
   "metadata": {},
   "source": [
    "### `title`"
   ]
  },
  {
   "cell_type": "markdown",
   "id": "a06848be",
   "metadata": {},
   "source": [
    "- We are extracting the problem numbers (IDs) from the `title`, which can be useful for organizing and analyzing the data. "
   ]
  },
  {
   "cell_type": "code",
   "execution_count": null,
   "id": "1b120dfb",
   "metadata": {},
   "outputs": [],
   "source": [
    "# Retrieve the 'title' column\n",
    "df['title']"
   ]
  },
  {
   "cell_type": "code",
   "execution_count": null,
   "id": "d8877c76",
   "metadata": {},
   "outputs": [],
   "source": [
    "# Extract the numerical part from the 'title' column by\n",
    "# splitting at '.' and converting to integers\n",
    "df['title'].str.split('.').apply(lambda x: x[0]).astype('int')"
   ]
  },
  {
   "cell_type": "code",
   "execution_count": null,
   "id": "c9f83e20",
   "metadata": {},
   "outputs": [],
   "source": [
    "# Extract numeric values from 'title' column, convert to integers,\n",
    "# and assign to a new 'id' column\n",
    "df['id'] = df['title'].str.split('.').apply(lambda x: x[0]).astype('int')"
   ]
  },
  {
   "cell_type": "markdown",
   "id": "3a5e4f6f",
   "metadata": {},
   "source": [
    "### `topic_tags`"
   ]
  },
  {
   "cell_type": "markdown",
   "id": "cde3d4e6",
   "metadata": {},
   "source": [
    "- There are total 73 topic tags.\n",
    "- LeetCode problems can belong to multiple topics.\n",
    "- **string splitting** on `topic_tags`\n",
    "    - It involves taking a single string that contains multiple items separated by some delimiter and splitting it into a list of individual items.\n",
    "- **binary encoding** on `topic_tags`\n",
    "    - We are creating a binary representation for the `topic_tags` column, where each unique tag gets its own column. If a tag is present for a problem, the corresponding column will have a value of **True**; if it's not present, the column will have a value of **False**. "
   ]
  },
  {
   "cell_type": "code",
   "execution_count": null,
   "id": "8282307b",
   "metadata": {},
   "outputs": [],
   "source": [
    "# Retrieve the 'topic_tags' column\n",
    "df['topic_tags']"
   ]
  },
  {
   "cell_type": "code",
   "execution_count": null,
   "id": "538a1f6e",
   "metadata": {},
   "outputs": [],
   "source": [
    "# Remove single quotes and split the 'topic_tags' into a list of tags\n",
    "df['topic_tags'].str.replace(\"'\",'').str.split(', ')"
   ]
  },
  {
   "cell_type": "code",
   "execution_count": null,
   "id": "6ce01fcd",
   "metadata": {},
   "outputs": [],
   "source": [
    "# Remove single quotes and split 'topic_tags' into lists,\n",
    "# then update the 'topic_tags' column\n",
    "df['topic_tags'] = df['topic_tags'].str.replace(\"'\",'').str.split(', ')"
   ]
  },
  {
   "cell_type": "code",
   "execution_count": null,
   "id": "97091dbc",
   "metadata": {},
   "outputs": [],
   "source": [
    "# Extract unique values from the 'topic_tags' column\n",
    "# after exploding the lists\n",
    "set(df['topic_tags'].explode('topic_tags').unique())"
   ]
  },
  {
   "cell_type": "code",
   "execution_count": null,
   "id": "247da8c3",
   "metadata": {},
   "outputs": [],
   "source": [
    "# Count the unique values from the 'topic_tags'\n",
    "np.size(df['topic_tags'].explode('topic_tags').unique())-1 # exclude nan value"
   ]
  },
  {
   "cell_type": "code",
   "execution_count": null,
   "id": "66e89772",
   "metadata": {},
   "outputs": [],
   "source": [
    "# Treating each tag as a separate binary column\n",
    "df['topic_tags'].str.join(',').str.get_dummies(sep=',').astype(bool)"
   ]
  },
  {
   "cell_type": "code",
   "execution_count": null,
   "id": "74cf06ba",
   "metadata": {},
   "outputs": [],
   "source": [
    "# Concatenate the original DataFrame with dummy variables for 'topic_tags'\n",
    "df = pd.concat([df, df['topic_tags'].str.join(',').str.get_dummies(sep=',').astype(bool)], axis=1)"
   ]
  },
  {
   "cell_type": "markdown",
   "id": "97fce3ba",
   "metadata": {},
   "source": [
    "### `problem_description`"
   ]
  },
  {
   "cell_type": "markdown",
   "id": "cbbe0fba",
   "metadata": {},
   "source": [
    "- We counted the number of words in the `problem_description` to create a new `word_count` column."
   ]
  },
  {
   "cell_type": "code",
   "execution_count": null,
   "id": "0f1f316f",
   "metadata": {},
   "outputs": [],
   "source": [
    "# Import necessary libraries for text processing\n",
    "import re  # Regular expressions for string manipulation\n",
    "import string  # String operations, including punctuation\n",
    "import nltk  # Natural Language Toolkit for NLP tasks\n",
    "from nltk.corpus import stopwords  # Stopwords for text filtering"
   ]
  },
  {
   "cell_type": "code",
   "execution_count": null,
   "id": "51940fff",
   "metadata": {},
   "outputs": [],
   "source": [
    " def remove_html_tags(text):\n",
    "    # Remove HTML tags\n",
    "    cleaned_text = re.sub(r'<.*?>', '', text)\n",
    "    return cleaned_text.strip()"
   ]
  },
  {
   "cell_type": "code",
   "execution_count": null,
   "id": "871f6183",
   "metadata": {},
   "outputs": [],
   "source": [
    "def remove_url(description):\n",
    "    # Remove URl\n",
    "    if bool(re.search(r'https?://\\S+', description)):\n",
    "        description = re.sub(r'https?://\\S+', '', description)\n",
    "    return description"
   ]
  },
  {
   "cell_type": "code",
   "execution_count": null,
   "id": "1e089799",
   "metadata": {},
   "outputs": [],
   "source": [
    "def remove_punctuation(text):  \n",
    "    # '!\"#$%&\\'()*+,-./:;<=>?@[\\\\]^_`{|}~'\n",
    "    # Create a translation table to remove punctuation\n",
    "    translator = str.maketrans('', '', string.punctuation)\n",
    "    # Use the translate method to remove punctuation\n",
    "    cleaned_text = text.translate(translator)\n",
    "    return cleaned_text"
   ]
  },
  {
   "cell_type": "code",
   "execution_count": null,
   "id": "2e836fb6",
   "metadata": {},
   "outputs": [],
   "source": [
    "def remove_stop_words(text):\n",
    "    # Remove stop words\n",
    "    stop_words = set(stopwords.words('english'))  # Use English stop words\n",
    "    words = text.split()\n",
    "    filtered_words = [word for word in words if word.lower() not in stop_words]\n",
    "    filtered_text = ' '.join(filtered_words)\n",
    "    return filtered_text"
   ]
  },
  {
   "cell_type": "code",
   "execution_count": null,
   "id": "ecb80058",
   "metadata": {},
   "outputs": [],
   "source": [
    "def remove_numbers(text):\n",
    "    # Remove digit\n",
    "    pattern = r'\\d+'\n",
    "    return re.sub(pattern, '', text)"
   ]
  },
  {
   "cell_type": "code",
   "execution_count": null,
   "id": "0de8ff11",
   "metadata": {},
   "outputs": [],
   "source": [
    "def get_lemmatize_text(text):\n",
    "    # Initialize the WordNet Lemmatizer\n",
    "    wn = nltk.WordNetLemmatizer()\n",
    "    # Lemmatize each word in the text\n",
    "    lemmatized_words = []\n",
    "    for word in text.split():\n",
    "        lemmatized_words.append(wn.lemmatize(word))\n",
    "    # Return the lemmatized text\n",
    "    return \" \".join(lemmatized_words)"
   ]
  },
  {
   "cell_type": "code",
   "execution_count": null,
   "id": "b45828c2",
   "metadata": {},
   "outputs": [],
   "source": [
    "def remove_chars_and_symbols(text):\n",
    "    # Remove single or double characters\n",
    "    text = re.sub(r'\\b\\w\\b|\\b\\w\\w\\b', '', text)\n",
    "    # Remove specific symbols\n",
    "    symbols_to_remove = ['⟶', '⊕', '→', '…']\n",
    "    for symbol in symbols_to_remove:\n",
    "        text = text.replace(symbol, '')\n",
    "    # Remove patterns starting with '\\u{any number}b'\n",
    "    text = re.sub(r'\\\\u\\d+b', '', text)\n",
    "    return text"
   ]
  },
  {
   "cell_type": "code",
   "execution_count": null,
   "id": "f980254e",
   "metadata": {},
   "outputs": [],
   "source": [
    "def remove_whitespace(text):\n",
    "    # Remove multiple whitespace\n",
    "    return re.sub(r'\\s+', ' ', text)"
   ]
  },
  {
   "cell_type": "code",
   "execution_count": null,
   "id": "599c87b7",
   "metadata": {},
   "outputs": [],
   "source": [
    "# Creating a new DataFrame 'temp_df' with columns 'id' and 'problem_description'\n",
    "# from the original DataFrame 'df'\n",
    "temp_df = df[['id','problem_description']].copy()"
   ]
  },
  {
   "cell_type": "code",
   "execution_count": null,
   "id": "85118562",
   "metadata": {},
   "outputs": [],
   "source": [
    "# removing rows with missing values in 'problem_description'\n",
    "temp_df.dropna(inplace=True)"
   ]
  },
  {
   "cell_type": "code",
   "execution_count": null,
   "id": "ad7521bc",
   "metadata": {},
   "outputs": [],
   "source": [
    "# Text preprocessing\n",
    "temp_df['problem_description'] = temp_df['problem_description'].str.lower()\n",
    "temp_df['problem_description'] = temp_df['problem_description'].apply(func=remove_html_tags)\n",
    "temp_df['problem_description'] = temp_df['problem_description'].apply(func=remove_url)\n",
    "temp_df['problem_description'] = temp_df['problem_description'].apply(func=remove_punctuation)\n",
    "temp_df['problem_description'] = temp_df['problem_description'].apply(func=remove_stop_words)\n",
    "temp_df['problem_description'] = temp_df['problem_description'].apply(func=remove_numbers)\n",
    "temp_df['problem_description'] = temp_df['problem_description'].apply(func=get_lemmatize_text)\n",
    "temp_df['problem_description'] = temp_df['problem_description'].apply(func=remove_chars_and_symbols)\n",
    "temp_df['problem_description'] = temp_df['problem_description'].apply(func=remove_whitespace)"
   ]
  },
  {
   "cell_type": "code",
   "execution_count": null,
   "id": "b6f1e7a8",
   "metadata": {},
   "outputs": [],
   "source": [
    "# Adding a new column 'word_count' to 'temp_df' that represents the number of words in the 'problem_description' column.\n",
    "temp_df['word_count'] = temp_df['problem_description'].str.split(' ').str.len()"
   ]
  },
  {
   "cell_type": "code",
   "execution_count": null,
   "id": "528945fd",
   "metadata": {},
   "outputs": [],
   "source": [
    "# Merging the original DataFrame 'df' with the 'temp_df' DataFrame \n",
    "# on the 'id' column, adding the 'word_count' column from 'temp_df' to 'df'\n",
    "# based on a left join\n",
    "df = df.merge(temp_df[['id','word_count']], left_on='id', right_on='id', how='left')"
   ]
  },
  {
   "cell_type": "code",
   "execution_count": null,
   "id": "e948059d",
   "metadata": {},
   "outputs": [],
   "source": [
    "# Converting the 'word_count' column in the DataFrame 'df' to numeric values,\n",
    "# handling errors by coercing non-numeric values to NaN,\n",
    "# and then converting to nullable integer type (Int32).\n",
    "df['word_count'] = pd.to_numeric(df['word_count'], errors='coerce').astype('Int32')"
   ]
  },
  {
   "cell_type": "markdown",
   "id": "2f9279e8",
   "metadata": {},
   "source": [
    "### `similar_questions`"
   ]
  },
  {
   "cell_type": "markdown",
   "id": "097bb8a0",
   "metadata": {},
   "source": [
    "- **string splitting** on `similar_question`\n",
    "- We are extracting a numerical feature from the `similar_questions` column that represents the number of similar questions `no_similar_questions`."
   ]
  },
  {
   "cell_type": "code",
   "execution_count": null,
   "id": "82ba55d2",
   "metadata": {},
   "outputs": [],
   "source": [
    "# Retrieve the 'similar_questions' column\n",
    "df['similar_questions']"
   ]
  },
  {
   "cell_type": "code",
   "execution_count": null,
   "id": "a8d0d028",
   "metadata": {},
   "outputs": [],
   "source": [
    "# Performing string manipulation on the 'similar_questions' column in the DataFrame 'df': \n",
    "# Removing single quotes and then splitting the string into a list using ', ' as the delimiter.\n",
    "df['similar_questions'].str.replace(\"'\",'').str.split(\", \")"
   ]
  },
  {
   "cell_type": "code",
   "execution_count": null,
   "id": "7a0dcdf8",
   "metadata": {},
   "outputs": [],
   "source": [
    "# Removing single quotes from the 'similar_questions' column in the DataFrame 'df' \n",
    "# and then splitting the string into a list using ', ' as the delimiter.\n",
    "df['similar_questions'] = df['similar_questions'].str.replace(\"'\",'').str.split(\", \")"
   ]
  },
  {
   "cell_type": "code",
   "execution_count": null,
   "id": "4a6e3108",
   "metadata": {},
   "outputs": [],
   "source": [
    "# Applying a lambda function to the 'similar_questions' column in the DataFrame 'df':\n",
    "# Counting the number of elements in each list (if it is a list and the first element is not an empty string), otherwise returning 0.\n",
    "df['similar_questions'].apply(lambda x: len(x) if isinstance(x,list) and x[0]!='' else 0)"
   ]
  },
  {
   "cell_type": "code",
   "execution_count": null,
   "id": "4119e916",
   "metadata": {},
   "outputs": [],
   "source": [
    "# Creating a new column 'no_similar_questions' in the DataFrame 'df':\n",
    "# Assigning the count of elements in each list from the 'similar_questions' column, or 0 if it's not a list.\n",
    "df['no_similar_questions'] = df['similar_questions'].apply(lambda x: len(x) if isinstance(x,list) else 0)"
   ]
  },
  {
   "cell_type": "code",
   "execution_count": null,
   "id": "6aea0f8a",
   "metadata": {},
   "outputs": [],
   "source": [
    "# Setting 'no_similar_questions' to pd.NA for rows where 'is_premium' is True\n",
    "# and 'no_similar_questions' is 0.\n",
    "df.loc[(df['is_premium'] == True) & (df['no_similar_questions'] == 0), 'no_similar_questions'] = pd.NA"
   ]
  },
  {
   "cell_type": "markdown",
   "id": "f0326059",
   "metadata": {},
   "source": [
    "> **We have introduced several new features, including `no_similar_questions` for number of similar questions, an `id` attribute for unique identification, `word_count` to track the number of words, and 73 distinct features dedicated to `individual topics`.**"
   ]
  },
  {
   "cell_type": "markdown",
   "id": "2b481aa2",
   "metadata": {},
   "source": [
    "<center> <h2> Data Format Conversion and Data Type Conversion </h2> </center>"
   ]
  },
  {
   "cell_type": "markdown",
   "id": "41767a61",
   "metadata": {},
   "source": [
    "- We are removing special characters like **%** and abbreviations like **K** and **M** to represent the values as numbers.\n",
    "- We are changing the data type of the columns from object data type to float or int to make them compatible with numerical analysis."
   ]
  },
  {
   "cell_type": "code",
   "execution_count": null,
   "id": "99a904eb",
   "metadata": {},
   "outputs": [],
   "source": [
    "# Retrieve specific columns ['acceptance', 'accepted', 'submission', 'solution', 'discussion_count', 'likes', 'dislikes'] \n",
    "# from the DataFrame 'df'\n",
    "df[['acceptance','accepted','submission','solution','discussion_count','likes','dislikes']]"
   ]
  },
  {
   "cell_type": "code",
   "execution_count": null,
   "id": "6f58a309",
   "metadata": {},
   "outputs": [],
   "source": [
    "# Displaying information about selected columns ['acceptance', 'accepted', 'submission', 'solution', 'discussion_count', 'likes', 'dislikes']\n",
    "# in the DataFrame 'df'.\n",
    "df[['acceptance','accepted','submission','solution','discussion_count','likes','dislikes']].info()"
   ]
  },
  {
   "cell_type": "markdown",
   "id": "914fe611",
   "metadata": {},
   "source": [
    "### `acceptance`"
   ]
  },
  {
   "cell_type": "code",
   "execution_count": null,
   "id": "97acf171",
   "metadata": {},
   "outputs": [],
   "source": [
    "# Stripping the percentage sign from the 'acceptance' column in the DataFrame 'df'\n",
    "# and converting the values to floating-point numbers.\n",
    "df['acceptance'] = df['acceptance'].str.rstrip('%').astype('float')"
   ]
  },
  {
   "cell_type": "markdown",
   "id": "2ad739c6",
   "metadata": {},
   "source": [
    "### `accepted`"
   ]
  },
  {
   "cell_type": "code",
   "execution_count": null,
   "id": "292fad22",
   "metadata": {},
   "outputs": [],
   "source": [
    "# Replacing 'K' with 'e3' and 'M' with 'e6' in the 'accepted' column of the DataFrame 'df', then converting the values to floating-point numbers.\n",
    "df['accepted'] = df['accepted'].str.replace('K', 'e3').str.replace('M', 'e6').astype(float)\n",
    "\n",
    "# Converting the 'accepted' column to numeric values, handling errors by coercing non-numeric values to NaN, and then converting to nullable integer type (Int32).\n",
    "df['accepted'] = pd.to_numeric(df['accepted'], errors='coerce').astype('Int32')"
   ]
  },
  {
   "cell_type": "markdown",
   "id": "714b58ba",
   "metadata": {},
   "source": [
    "### `submission`"
   ]
  },
  {
   "cell_type": "code",
   "execution_count": null,
   "id": "d33da4f9",
   "metadata": {},
   "outputs": [],
   "source": [
    "# Replacing 'K' with 'e3' and 'M' with 'e6' in the 'submission' column of the DataFrame 'df', then converting the values to floating-point numbers.\n",
    "df['submission'] = df['submission'].str.replace('K', 'e3').str.replace('M', 'e6').astype(float)\n",
    "\n",
    "# Converting the 'submission' column to numeric values, handling errors by coercing non-numeric values to NaN, and then converting to nullable integer type (Int32).\n",
    "df['submission'] = pd.to_numeric(df['submission'], errors='coerce').astype('Int32')"
   ]
  },
  {
   "cell_type": "markdown",
   "id": "f26efa03",
   "metadata": {},
   "source": [
    "### `solution`"
   ]
  },
  {
   "cell_type": "code",
   "execution_count": null,
   "id": "8c79e741",
   "metadata": {},
   "outputs": [],
   "source": [
    "# Replacing 'K' with 'e3' and 'M' with 'e6' in the 'solution' column of the DataFrame 'df', then converting the values to floating-point numbers.\n",
    "df['solution'] = df['solution'].str.replace('K', 'e3').str.replace('M', 'e6').astype(float)\n",
    "\n",
    "# Converting the 'solution' column to numeric values, handling errors by coercing non-numeric values to NaN, and then converting to nullable integer type (Int32).\n",
    "df['solution'] = pd.to_numeric(df['solution'], errors='coerce').astype('Int32')"
   ]
  },
  {
   "cell_type": "markdown",
   "id": "c46470e8",
   "metadata": {},
   "source": [
    "### `discussion_count`"
   ]
  },
  {
   "cell_type": "code",
   "execution_count": null,
   "id": "b4615260",
   "metadata": {},
   "outputs": [],
   "source": [
    "# Converting the 'discussion_count' column in the DataFrame 'df' to numeric values, handling errors by coercing non-numeric values to NaN, \n",
    "# and then converting to nullable integer type (Int32).\n",
    "\n",
    "df['discussion_count'] = pd.to_numeric(df['discussion_count'], errors='coerce').astype('Int32')"
   ]
  },
  {
   "cell_type": "markdown",
   "id": "c65368e6",
   "metadata": {},
   "source": [
    "### `likes`"
   ]
  },
  {
   "cell_type": "code",
   "execution_count": null,
   "id": "6c876b1a",
   "metadata": {},
   "outputs": [],
   "source": [
    "# Replacing 'K' with 'e3' and 'M' with 'e6' in the 'likes' column of the DataFrame 'df', then converting the values to floating-point numbers.\n",
    "df['likes'] = df['likes'].str.replace('K', 'e3').str.replace('M', 'e6').astype(float)\n",
    "\n",
    "# Converting the 'likes' column to numeric values, handling errors by coercing non-numeric values to NaN, and then converting to nullable integer type (Int32).\n",
    "df['likes'] = pd.to_numeric(df['likes'], errors='coerce').astype('Int32')"
   ]
  },
  {
   "cell_type": "markdown",
   "id": "c3361633",
   "metadata": {},
   "source": [
    "### `dislikes`"
   ]
  },
  {
   "cell_type": "code",
   "execution_count": null,
   "id": "4acf3ae3",
   "metadata": {},
   "outputs": [],
   "source": [
    "# Replacing 'K' with 'e3' and 'M' with 'e6' in the 'dislikes' column of the DataFrame 'df', then converting the values to floating-point numbers.\n",
    "df['dislikes'] = df['dislikes'].str.replace('K', 'e3').str.replace('M', 'e6').astype(float)\n",
    "\n",
    "# Converting the 'dislikes' column to numeric values, handling errors by coercing non-numeric values to NaN,\n",
    "# and then converting to nullable integer type (Int32).\n",
    "df['dislikes'] = pd.to_numeric(df['dislikes'], errors='coerce').astype('Int32')"
   ]
  },
  {
   "cell_type": "code",
   "execution_count": null,
   "id": "476cf620",
   "metadata": {},
   "outputs": [],
   "source": [
    "# Displaying selected columns ['acceptance', 'accepted', 'submission', 'solution', 'discussion_count', 'likes', 'dislikes'] from the DataFrame 'df'\n",
    "\n",
    "df[['acceptance','accepted','submission','solution','discussion_count','likes','dislikes']]"
   ]
  },
  {
   "cell_type": "markdown",
   "id": "1daab8c5",
   "metadata": {},
   "source": [
    "<center> <h2> Column Rearrangement </h2> </center>"
   ]
  },
  {
   "cell_type": "markdown",
   "id": "235e7b15",
   "metadata": {},
   "source": [
    "- This process involves changing the sequence of columns to make the DataFrame more organized, intuitive and suitable for analysis."
   ]
  },
  {
   "cell_type": "code",
   "execution_count": null,
   "id": "22c80d90",
   "metadata": {},
   "outputs": [],
   "source": [
    "# Displaying the shape (number of rows and columns) of the DataFrame 'df'\n",
    "df.shape"
   ]
  },
  {
   "cell_type": "code",
   "execution_count": null,
   "id": "1d06ab55",
   "metadata": {},
   "outputs": [],
   "source": [
    "# Arrangement of columns\n",
    "column_order = [\n",
    "    'id',\n",
    "    'is_premium',\n",
    "    'title',\n",
    "    'problem_description',\n",
    "    'word_count',\n",
    "    'topic_tags',\n",
    "    'difficulty',\n",
    "    'similar_questions',\n",
    "    'no_similar_questions',\n",
    "    'acceptance',\n",
    "    'accepted',\n",
    "    'submission',\n",
    "    'solution',\n",
    "    'discussion_count',\n",
    "    'likes',\n",
    "    'dislikes',\n",
    "       'Array', 'Backtracking',\n",
    "       'Biconnected Component', 'Binary Indexed Tree', 'Binary Search',\n",
    "       'Binary Search Tree', 'Binary Tree', 'Bit Manipulation', 'Bitmask',\n",
    "       'Brainteaser', 'Breadth-First Search', 'Bucket Sort', 'Combinatorics',\n",
    "       'Concurrency', 'Counting', 'Counting Sort', 'Data Stream', 'Database',\n",
    "       'Depth-First Search', 'Design', 'Divide and Conquer',\n",
    "       'Doubly-Linked List', 'Dynamic Programming', 'Enumeration',\n",
    "       'Eulerian Circuit', 'Game Theory', 'Geometry', 'Graph', 'Greedy',\n",
    "       'Hash Function', 'Hash Table', 'Heap (Priority Queue)', 'Interactive',\n",
    "       'Iterator', 'JavaScript', 'Line Sweep', 'Linked List', 'Math', 'Matrix',\n",
    "       'Memoization', 'Merge Sort', 'Minimum Spanning Tree', 'Monotonic Queue',\n",
    "       'Monotonic Stack', 'Number Theory', 'Ordered Set', 'Pandas',\n",
    "       'Prefix Sum', 'Probability and Statistics', 'Queue', 'Quickselect',\n",
    "       'Radix Sort', 'Randomized', 'Recursion', 'Rejection Sampling',\n",
    "       'Reservoir Sampling', 'Rolling Hash', 'Segment Tree', 'Shell',\n",
    "       'Shortest Path', 'Simulation', 'Sliding Window', 'Sorting', 'Stack',\n",
    "       'String', 'String Matching', 'Strongly Connected Component',\n",
    "       'Suffix Array', 'Topological Sort', 'Tree', 'Trie', 'Two Pointers',\n",
    "       'Union Find',\n",
    "    'problem_URL',\n",
    "    'solution_URL'\n",
    "]"
   ]
  },
  {
   "cell_type": "code",
   "execution_count": null,
   "id": "ff1cf374",
   "metadata": {},
   "outputs": [],
   "source": [
    "# Check number of columns\n",
    "len(column_order)"
   ]
  },
  {
   "cell_type": "code",
   "execution_count": null,
   "id": "08daa0de",
   "metadata": {},
   "outputs": [],
   "source": [
    "# Column Rearrangement  \n",
    "df = df[column_order]"
   ]
  },
  {
   "cell_type": "markdown",
   "id": "40236ad1",
   "metadata": {},
   "source": [
    "### `Final Overview of the preprocessed data`"
   ]
  },
  {
   "cell_type": "code",
   "execution_count": null,
   "id": "a387dc3b",
   "metadata": {},
   "outputs": [],
   "source": [
    "# Information about dataframe\n",
    "df.info()"
   ]
  },
  {
   "cell_type": "code",
   "execution_count": null,
   "id": "d379a66c",
   "metadata": {},
   "outputs": [],
   "source": [
    "# Displaying the count of null values for columns with non-zero null counts\n",
    "# in the DataFrame 'df'\n",
    "\n",
    "df.isnull().sum()[df.isnull().sum()!=0]"
   ]
  },
  {
   "cell_type": "markdown",
   "id": "9a2ac4ed",
   "metadata": {},
   "source": [
    "- We lack information regarding 817 premium questions."
   ]
  },
  {
   "cell_type": "markdown",
   "id": "4f48c126",
   "metadata": {},
   "source": [
    "<center><h2> Conclusion </h2></center>"
   ]
  },
  {
   "cell_type": "markdown",
   "id": "a8c98271",
   "metadata": {},
   "source": [
    "- The dataset is now prepared and cleaned for further analysis.\n",
    "- Missing data is imputed and formatted correctly.\n",
    "- Additional features are engineered for better insights."
   ]
  },
  {
   "cell_type": "code",
   "execution_count": null,
   "id": "d0421900",
   "metadata": {},
   "outputs": [],
   "source": [
    "# Saving the preprocessed DataFrame 'df' \n",
    "# to a CSV file named 'preprocessed_data.csv' without including the index.\n",
    "df.to_csv('preprocessed_data.csv', index=None)"
   ]
  },
  {
   "cell_type": "markdown",
   "id": "a2ebe758",
   "metadata": {},
   "source": [
    "**References**\n",
    "\n",
    "1. Pandas Documentation: https://pandas.pydata.org/docs/index.html\n",
    "2. Numpy Documentation: https://numpy.org/doc/stable/index.html"
   ]
  }
 ],
 "metadata": {
  "kernelspec": {
   "display_name": "Python 3 (ipykernel)",
   "language": "python",
   "name": "python3"
  },
  "language_info": {
   "codemirror_mode": {
    "name": "ipython",
    "version": 3
   },
   "file_extension": ".py",
   "mimetype": "text/x-python",
   "name": "python",
   "nbconvert_exporter": "python",
   "pygments_lexer": "ipython3",
   "version": "3.10.9"
  }
 },
 "nbformat": 4,
 "nbformat_minor": 5
}
